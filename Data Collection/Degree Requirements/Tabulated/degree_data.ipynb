{
 "cells": [
  {
   "cell_type": "code",
   "execution_count": 2,
   "metadata": {
    "collapsed": true
   },
   "outputs": [],
   "source": [
    "import pandas as pd"
   ]
  },
  {
   "cell_type": "code",
   "execution_count": 8,
   "metadata": {
    "collapsed": false
   },
   "outputs": [
    {
     "name": "stdout",
     "output_type": "stream",
     "text": [
      "BACCT,Bachelor of Accounting\n",
      "HACCT,Bachelor of Accounting (Honours)\n",
      "BACTS,Bachelor of Actuarial Studies\n",
      "HACTS,Bachelor of Actuarial Studies (Honours)\n",
      "AACOM,Bachelor of Advanced Computing (Honours)\n",
      "AACRD,Bachelor of Advanced Computing (Research and Development) (Honours)\n",
      "BADAN,Bachelor of Applied Data Analytics\n",
      "HADAN,Bachelor of Applied Data Analytics (Honours)\n",
      "BAPRC,Bachelor of Archaeological Practice\n",
      "HAPRC,Bachelor of Archaeological Practice (Honours)\n",
      "BAHCR,Bachelor of Art History and Curatorship\n",
      "HAHCR,Bachelor of Art History and Curatorship (Honours)\n",
      "BARTS,Bachelor of Arts\n",
      "HART2,Bachelor of Arts (Honours)\n",
      "HARTS,Bachelor of Arts (Honours)\n",
      "BASIA,Bachelor of Asian Studies\n",
      "HASIA,Bachelor of Asian Studies (Honours)\n",
      "BAPYA,Bachelor of Asia-Pacific Studies (Year in Asia)\n",
      "BBIOT,Bachelor of Biotechnology\n",
      "HBIOT,Bachelor of Biotechnology (Honours)\n",
      "HBUSA,Bachelor of Business Administration (Honours)\n",
      "BCLAS,Bachelor of Classical Studies\n",
      "HCLAS,Bachelor of Classical Studies (Honours)\n",
      "BCOMM,Bachelor of Commerce\n",
      "HCOMM,Bachelor of Commerce (Honours)\n",
      "BCRIM,Bachelor of Criminology\n",
      "HCRIM,Bachelor of Criminology (Honours)\n",
      "BDESN,Bachelor of Design\n",
      "HDESA,Bachelor of Design Arts (Honours)\n",
      "BDEVS,Bachelor of Development Studies\n",
      "HDEVS,Bachelor of Development Studies (Honours)\n",
      "BECON,Bachelor of Economics\n",
      "HECON,Bachelor of Economics (Honours)\n",
      "AENGI,Bachelor of Engineering (Honours)\n",
      "AENRD,Bachelor of Engineering (Research and Development) (Honours)\n",
      "BENSU,Bachelor of Environment and Sustainability\n",
      "HENSU,Bachelor of Environment and Sustainability (Honours)\n",
      "AENSU,Bachelor of Environment and Sustainability Advanced (Honours)\n",
      "HENVS,Bachelor of Environmental Studies (Honours)\n",
      "BFINN,Bachelor of Finance\n",
      "HFINN,Bachelor of Finance (Honours)\n",
      "AFEST,Bachelor of Finance, Economics and Statistics (Honours)\n",
      "BGENE,Bachelor of Genetics\n",
      "HGENE,Bachelor of Genetics (Honours)\n",
      "BHLTH,Bachelor of Health Science\n",
      "BIT,Bachelor of Information Technology\n",
      "HIT,Bachelor of Information Technology (Honours)\n",
      "BINBS,Bachelor of International Business\n",
      "HINBS,Bachelor of International Business (Honours)\n",
      "BIR,Bachelor of International Relations\n",
      "HIR,Bachelor of International Relations (Honours)\n",
      "BINSS,Bachelor of International Security Studies\n",
      "HINSS,Bachelor of International Security Studies (Honours)\n",
      "BLANG,Bachelor of Languages\n",
      "HLANG,Bachelor of Languages (Honours)\n",
      "HLAMS,Bachelor of Latin American Studies (Honours)\n",
      "ALLB,Bachelor of Laws (Honours)\n",
      "BMASC,Bachelor of Mathematical Sciences\n",
      "HMASC,Bachelor of Mathematical Sciences (Honours)\n",
      "BMEDS,Bachelor of Medical Science\n",
      "HMDSA,Bachelor of Medical Science (Honours)\n",
      "HMEDS,Bachelor of Medical Science (Honours)\n",
      "BMECA,Bachelor of Middle Eastern and Central Asian Studies\n",
      "HMECA,Bachelor of Middle Eastern and Central Asian Studies (Honours)\n",
      "BMUSI,Bachelor of Music\n",
      "HMUSI,Bachelor of Music (Honours)\n",
      "BPAST,Bachelor of Pacific Studies\n",
      "APHAR,Bachelor of Philosophy (Honours) - Arts and Social Science\n",
      "APASP,Bachelor of Philosophy (Honours) - Asia and the Pacific\n",
      "APHSC,Bachelor of Philosophy (Honours) - Science\n",
      "APNAR,Bachelor of Philosophy (Honours) / Bachelor of Arts (Honours)\n",
      "APNSC,Bachelor of Philosophy (Honours) / Bachelor of Science (Honours) - ANU as home institution\n",
      "APNSN,Bachelor of Philosophy (Honours) / Bachelor of Science (Honours) - NUS as home institution\n",
      "BPOLS,Bachelor of Policy Studies\n",
      "HPOLS,Bachelor of Policy Studies (Honours)\n",
      "BPLSC,Bachelor of Political Science\n",
      "HPLSC,Bachelor of Political Science (Honours)\n",
      "BPPE,Bachelor of Politics, Philosophy and Economics\n",
      "HPPE,Bachelor of Politics, Philosophy and Economics (Honours)\n",
      "APSYC,Bachelor of Psychology (Honours)\n",
      "BSC,Bachelor of Science\n",
      "ASCAD,Bachelor of Science (Advanced) (Honours)\n",
      "HSC,Bachelor of Science (Honours)\n",
      "BSPSY,Bachelor of Science (Psychology)\n",
      "HSPSY,Bachelor of Science (Psychology) (Honours)\n",
      "ASSAE,Bachelor of Social Sciences (Honours in Actuarial Studies and Economics)\n",
      "ASENG,Bachelor of Software Engineering (Honours)\n",
      "BSTAT,Bachelor of Statistics\n",
      "HSTAT,Bachelor of Statistics (Honours)\n",
      "BSTUD,Bachelor of Studies\n",
      "BVART,Bachelor of Visual Arts\n",
      "HVART,Bachelor of Visual Arts (Honours)\n"
     ]
    }
   ],
   "source": [
    "df = pd.read_csv('degree-info.csv', encoding='latin')\n",
    "\n",
    "for index, row in df.iterrows():\n",
    "    code = ' '.join(str(row[0]).split())\n",
    "    name = ' '.join(str(row[2]).split())\n",
    "    if code == \"nan\" or name == \"nan\":\n",
    "        continue\n",
    "    print(code + \",\" + name)"
   ]
  }
 ],
 "metadata": {
  "kernelspec": {
   "display_name": "Python 3",
   "language": "python",
   "name": "python3"
  },
  "language_info": {
   "codemirror_mode": {
    "name": "ipython",
    "version": 3
   },
   "file_extension": ".py",
   "mimetype": "text/x-python",
   "name": "python",
   "nbconvert_exporter": "python",
   "pygments_lexer": "ipython3",
   "version": "3.6.0"
  }
 },
 "nbformat": 4,
 "nbformat_minor": 2
}
