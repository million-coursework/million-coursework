{
 "cells": [
  {
   "cell_type": "code",
   "execution_count": null,
   "metadata": {
    "collapsed": false
   },
   "outputs": [],
   "source": [
    "!~/downloads/google-cloud-sdk/bin/gcloud iam service-accounts create access2"
   ]
  },
  {
   "cell_type": "code",
   "execution_count": null,
   "metadata": {
    "collapsed": false,
    "scrolled": true
   },
   "outputs": [],
   "source": [
    "!~/downloads/google-cloud-sdk/bin/gcloud projects add-iam-policy-binding anu-tier-1 --member \"serviceAccount:access2@anu-tier-1.iam.gserviceaccount.com\" --role \"roles/DialogflowAPIClient\""
   ]
  },
  {
   "cell_type": "code",
   "execution_count": null,
   "metadata": {
    "collapsed": false
   },
   "outputs": [],
   "source": [
    "!~/downloads/google-cloud-sdk/bin/gcloud iam service-accounts keys create key2.json --iam-account access1@anu-tier-1.iam.gserviceaccount.com\n"
   ]
  },
  {
   "cell_type": "code",
   "execution_count": 1,
   "metadata": {
    "collapsed": false
   },
   "outputs": [],
   "source": [
    "\n",
    "\n",
    "# !~/downloads/google-cloud-sdk/bin/gcloud beta auth application-default  login\n",
    "!export GOOGLE_APPLICATION_CREDENTIALS=\"/Users/Tom/.config/gcloud/key2.json\"\n",
    "#token = !gcloud auth application-default print-access-token\n",
    "\n",
    "from bs4 import BeautifulSoup\n",
    "import requests\n",
    "import re\n",
    "import lxml.html as lh\n",
    "from urllib.request import urlretrieve\n",
    "import pandas as pd\n",
    "import urllib\n",
    "from sklearn.cluster import AffinityPropagation\n",
    "from sklearn.cluster import KMeans\n",
    "from sklearn.feature_extraction.text import TfidfVectorizer\n",
    "import numpy as np\n",
    "import json\n",
    "import textract"
   ]
  },
  {
   "cell_type": "code",
   "execution_count": null,
   "metadata": {
    "collapsed": true
   },
   "outputs": [],
   "source": [
    "def implicit():\n",
    "    from google.cloud import storage\n",
    "\n",
    "    # If you don't specify credentials when constructing the client, the\n",
    "    # client library will look for credentials in the environment.\n",
    "    storage_client = storage.Client()\n",
    "\n",
    "    # Make an authenticated API request\n",
    "    buckets = list(storage_client.list_buckets())\n",
    "    print(buckets)"
   ]
  },
  {
   "cell_type": "code",
   "execution_count": null,
   "metadata": {
    "collapsed": false
   },
   "outputs": [],
   "source": [
    "\"\"\"\n",
    "f = open('All_Programs.csv','r')\n",
    "final_course_list=[]\n",
    "content = f.readlines()\n",
    "for c in content:\n",
    "    if(c[0].isupper() and c[1].isupper() and c[2].isupper()):\n",
    "        final_course_list.append(c[0:8])\n",
    "\"\"\"\n",
    "program_df = pd.read_csv('All_Programs.csv')\n",
    "program_df.columns =list(map(lambda x: x.strip(), program_df.columns))\n",
    "#f.close()"
   ]
  },
  {
   "cell_type": "code",
   "execution_count": null,
   "metadata": {
    "collapsed": false
   },
   "outputs": [],
   "source": [
    "def is_honours(program):\n",
    "    return \"H\" in program\n",
    "\n",
    "YEARS = range(2018,2020)\n",
    "for year in YEARS:\n",
    "    for program in program_df['Code']:\n",
    "        #if(not is_honours(program)):\n",
    "        #    continue\n",
    "        if(len(program) > 5):\n",
    "            continue\n",
    "        print(program)\n",
    "        main_page = requests.get(\"https://programsandcourses.anu.edu.au/\"+str(year)+\"/program/\"+program)\n",
    "        soup = BeautifulSoup(main_page.content, 'html.parser')\n",
    "        course_dict=dict()\n",
    "        course_dict[\"year\"] = year\n",
    "        required = dict()\n",
    "        required[\"x_from_here\"] = [] \n",
    "        required[\"x_from_category\"] = []\n",
    "        required[\"one_from_m/m/s\"] = []\n",
    "        for title in soup.find_all(\"span\",class_ = \"intro__degree-title__component\"):\n",
    "            course_dict[\"name\"] = title.get_text()\n",
    "        for units in soup.find_all(\"li\",class_ = \"degree-summary__requirements-units\"):\n",
    "            course_dict[\"units\"] = [int(s) for s in units.get_text().split() if s.isdigit()][0]\n",
    "        \n",
    "        if(is_honours(program)):\n",
    "            curr_node = \"\"\n",
    "            curr_num = None\n",
    "            for s in soup.find_all(\"p\"):\n",
    "                \n",
    "                st = str(s)\n",
    "                if(\"units from completion\" in st) and not ('elective' in st):\n",
    "                        curr_node = st[:-3].split(\">\")[1]\n",
    "                        curr_num =st.split(\" \")[0]\n",
    "                        print(curr_node)\n",
    "                        \n",
    "                if(\"margin-left: 80px;\" in st):\n",
    "                    print(st)\n",
    "                    for statement in str(s).split(\">\"):\n",
    "                        if(curr_node == \"\"):\n",
    "                            break\n",
    "                        if(curr_node == \"mms\")and (\"href\" in statement):\n",
    "                            required[\"one_from_m/m/s\"].append(statement[-9:])\n",
    "                            continue\n",
    "                        if(curr_node != \"\") and (\"href\" in statement):\n",
    "                            required[\"x_from_here\"][-1][\"courses\"].append(statement[-9:])\n",
    "                            if(curr_num == '6'):\n",
    "                                break\n",
    "                        if(\"following\" in statement) and ((\"major\" in statement) or (\"minor\" in statement) or (\"specialisation\" in statement)):\n",
    "                            curr_node = \"mms\"\n",
    "                            continue\n",
    "                        if(\"units from completion\" in statement) and not ('elective' in statement):\n",
    "                            curr_node = statement[:-3]\n",
    "                            curr_num =statement.split(\" \")[0]\n",
    "                            if(\"List 1\" in statement):\n",
    "                                required[\"x_from_category\"].append({\"num\":curr_num,\"code\":['List 1']})\n",
    "\n",
    "                            required[\"x_from_here\"].append({\"num\":curr_num,\"courses\":[]})\n",
    "        else:\n",
    "            for s in soup.find_all(\"div\",{\"id\": \"study\"}):\n",
    "                curr_node = \"\"\n",
    "                curr_num = None\n",
    "                for statement in str(s).split(\">\"):\n",
    "                    if(curr_node == \"mms\")and (\"href\" in statement):\n",
    "                        required[\"one_from_m/m/s\"].append(statement[-9:])\n",
    "                        continue\n",
    "                    if(curr_node != \"\") and (\"href\" in statement):\n",
    "                        required[\"x_from_here\"][-1][\"courses\"].append(statement[-9:])\n",
    "                        if(curr_num == '6'):\n",
    "                            break\n",
    "                    if(\"following\" in statement) and ((\"major\" in statement) or (\"minor\" in statement) or (\"specialisation\" in statement)):\n",
    "                        curr_node = \"mms\"\n",
    "                        continue\n",
    "                    if(\"units from completion\" in statement) and not ('elective' in statement):\n",
    "                        curr_node = statement[:-3]\n",
    "                        curr_num =statement.split(\" \")[0]\n",
    "                        if(\"List 1\" in statement):\n",
    "                            required[\"x_from_category\"].append({\"num\":curr_num,\"code\":['List 1']})\n",
    "\n",
    "                        required[\"x_from_here\"].append({\"num\":curr_num,\"courses\":[]})\n",
    "\n",
    "\n",
    "\n",
    "            course_dict[\"required\"] = required\n",
    "            print(course_dict)\n",
    "            #s.split(\">\")\n",
    "            #bs = BeautifulSoup(s.content,'html.parser')\n",
    "            #for p in bs.find_all(\"p\"):\n",
    "            #    print(p)\n",
    "        \n",
    "# look for a regex which is like > (some number) units from completion of a course from the following list.\n",
    "# Then get all the HRefs in the proceeding list.\n",
    "# format in xml\n",
    "# readd for all degrees\n"
   ]
  },
  {
   "cell_type": "code",
   "execution_count": null,
   "metadata": {
    "collapsed": true
   },
   "outputs": [],
   "source": [
    "course_codes = list(pd.read_csv(\"courses.csv\")['\\n                    Code\\n                '])\n",
    "course_names = list(pd.read_csv(\"courses.csv\")['\\n                    Title\\n                '])\n",
    "course_descriptions=[]\n",
    "course_codes=final_course_list\n",
    "for i in range(0,len(final_course_list)):\n",
    "    if(course_codes[i] in seen):\n",
    "        break\n",
    "    seen.add(i)\n",
    "    course=course_codes[i]\n",
    "    print(\"Downloading reports for:\",course)\n",
    "    main_page = requests.get(\"https://programsandcourses.anu.edu.au/2018/course/\"+course)\n",
    "    soup = BeautifulSoup(main_page.content, 'html.parser')\n",
    "    desc=\"\"\n",
    "    req=\"\"\n",
    "    outcomes=\"\"\n",
    "    req_description=\"\"\n",
    "    full_text=soup.get_text()\n",
    "    for s in soup.find_all(\"div\",\"introduction\"):\n",
    "        desc = s.get_text()\n",
    "    for s in soup.find_all(\"div\",\"requisite\"):\n",
    "        req=parse_prereq(s.get_text())\n",
    "        \n",
    "        req_description=s.get_text()\n",
    "        \n",
    "    for s in soup.find_all(\"ol\"):\n",
    "        outcomes = s.get_text()    \n",
    "\n",
    "    course_descriptions.append([course,course_names[i],desc,outcomes,req,req_description,full_text])\n"
   ]
  },
  {
   "cell_type": "code",
   "execution_count": null,
   "metadata": {
    "collapsed": false,
    "scrolled": true
   },
   "outputs": [],
   "source": [
    "import re\n",
    "\n",
    "for program in program_df['Code']:\n",
    "    main_page = requests.get(\"https://programsandcourses.anu.edu.au/program/\"+program)\n",
    "    soup = BeautifulSoup(main_page.content, 'html.parser')\n",
    "    doc = \"\"\n",
    "    for para in soup.find_all('p'):\n",
    "        doc += \" \"+para.text\n",
    "    doc = ' '.join(s for s in doc.split() if not s.isdigit())\n",
    "    regex = re.compile('[^a-zA-Z]')\n",
    "    doc =regex.sub(' ', doc)\n",
    "    doc = ''.join(e for e in doc if e.isalnum() or e==' ' or e==\".\" or e==\",\" or e==\"\\n\")\n",
    "    url = 'https://dialogflow.googleapis.com/v2beta1/projects/anu-tier-1/agent/knowledgeBases/OTM2NzIwNTc0OTk1MzkyMTAyNA/documents'\n",
    "    payload = \"\"\"{\n",
    "              \"name\":\"\",\n",
    "              \"displayName\": \\\"\"\"\"+program+\"\"\"\\\",\n",
    "              \"mimeType\": \"text/plain\",\n",
    "              \"knowledgeTypes\": [\n",
    "                \"EXTRACTIVE_QA\"\n",
    "              ],\n",
    "\n",
    "              \"content\": \\\"\"\"\"+doc+\"\"\"\\\",\n",
    "            }\"\"\" \n",
    "    headers = {\n",
    "               'Authorization': 'Bearer '+token[0]\n",
    "    }\n",
    "\n",
    "    print(requests.post(url, data=payload, headers=headers).text)\n"
   ]
  },
  {
   "cell_type": "code",
   "execution_count": 31,
   "metadata": {
    "collapsed": false,
    "scrolled": true
   },
   "outputs": [
    {
     "name": "stdout",
     "output_type": "stream",
     "text": [
      "ya29.c.El8GBl0IVoUhYDKLqAtl_f5yMMmmWnJEB6kWcaJYZRoMC9O-Ux97okyictxTlKkV1c8TxJYugiDKxSUI0XIzTqI2KlirBIjTQyyi72K5wK7KXP0kfX3lTMoSoZAWFTJSLw\r\n"
     ]
    }
   ],
   "source": [
    "!~/downloads/google-cloud-sdk/bin/gcloud auth print-access-token\n"
   ]
  },
  {
   "cell_type": "code",
   "execution_count": 68,
   "metadata": {
    "collapsed": false,
    "scrolled": true
   },
   "outputs": [
    {
     "name": "stdout",
     "output_type": "stream",
     "text": [
      "{\n",
      "  \"name\": \"projects/anu-tier-1/operations/ks-add_document-MzMzMDU4Nzg0NjMwMDkyNTk1Mg\"\n",
      "}\n",
      "\n",
      "{\n",
      "  \"responseId\": \"87e5def4-331e-4877-bf69-8ec4a7cfd327\",\n",
      "  \"queryResult\": {\n",
      "    \"queryText\": \"what+do+I+learn+in+bachelor+of+engineering\",\n",
      "    \"parameters\": {},\n",
      "    \"allRequiredParamsPresent\": true,\n",
      "    \"intent\": {\n",
      "      \"name\": \"projects/anu-tier-1/agent/intents/e357fc86-ca4a-4e2b-b5fe-3cdb07db2a3b\",\n",
      "      \"displayName\": \"Knowledge.KnowledgeBase.OTM2NzIwNTc0OTk1MzkyMTAyNA\"\n",
      "    },\n",
      "    \"intentDetectionConfidence\": 0.27764508,\n",
      "    \"languageCode\": \"en\",\n",
      "    \"knowledgeAnswers\": {\n",
      "      \"answers\": [\n",
      "        {\n",
      "          \"source\": \"projects/anu-tier-1/knowledgeBases/OTM2NzIwNTc0OTk1MzkyMTAyNA/documents/OTE2MDYwMzExNzA0ODI5OTUy\",\n",
      "          \"answer\": \"If you are an international student you must always be full time. IF YOU ARE COMMENCING IN JULY YOU SHOULD SEND AN EMAIL TO studentadmin.cecs anu.edu.au FOR ADVICE ABOUT YOUR ENROLMENT OR YOU SHOULD ATTEND AN ENROLMENT ADVICE SESSION AT THE UNIVERSITY IN THE WEEK BEFORE SEMESTER COMMENCES.If you studied ACT Maths Methods, or are not confident in your Maths ability, please please FOLLOW THE ADVICE HERE Students who excel in maths and have done the highest level of maths available to them at school should read the following You may choose to enrol in MATH and MATH honours maths in place of MATH and MATH .\",\n",
      "          \"matchConfidenceLevel\": \"LOW\",\n",
      "          \"matchConfidence\": 0.27764508\n",
      "        }\n",
      "      ]\n",
      "    }\n",
      "  }\n",
      "}\n",
      "\n",
      "{\n",
      "  \"error\": {\n",
      "    \"code\": 404,\n",
      "    \"message\": \"Row is missing. Trying to write: Documents(anu-tier-1,global,OTM2NzIwNTc0OTk1MzkyMTAyNA,MzMzMDU4Nzg0NjMwMDkyNTk1Mg).\",\n",
      "    \"status\": \"NOT_FOUND\"\n",
      "  }\n",
      "}\n",
      "\n"
     ]
    }
   ],
   "source": [
    "token = [\"ya29.c.El8GBl0IVoUhYDKLqAtl_f5yMMmmWnJEB6kWcaJYZRoMC9O-Ux97okyictxTlKkV1c8TxJYugiDKxSUI0XIzTqI2KlirBIjTQyyi72K5wK7KXP0kfX3lTMoSoZAWFTJSLw\"]\n",
    "token = !~/downloads/google-cloud-sdk/bin/gcloud auth print-access-token\n",
    "base_id = \"OTM2NzIwNTc0OTk1MzkyMTAyNA\"\n",
    "from unidecode  import unidecode\n",
    "\n",
    "def answer_question(q):\n",
    "    q=q.replace(\" \",\"+\")\n",
    "    main_page = requests.get(\"https://www.google.com/search?q=\"+q+\"+site:programsandcourses.anu.edu.au\")\n",
    "    soup = BeautifulSoup(main_page.content, 'html.parser')\n",
    "    main_page = requests.get('http'+soup.find('h3', class_ = 'r').find('a').get('href').split('http')[1].split('&sa')[0])\n",
    "    soup = BeautifulSoup(main_page.content, 'html.parser')\n",
    "    doc=\"\"\n",
    "    for para in soup.find_all('p'):\n",
    "        doc += \"\\n\"+unidecode(para.text)\n",
    "    #doc = ' '.join(s for s in doc.split() if not s.isdigit())\n",
    "    #regex = re.compile('[^a-zA-Z.,?]')\n",
    "    #doc =regex.sub(' ', doc)\n",
    "    #doc = ''.join(e for e in doc if e.isalnum() or e==' ' or e==\".\" or e==\",\" or e==\"\\n\" or e==\"?\")\n",
    "    doc = doc.replace(\"\\\"\",\"\")\n",
    "    doc_id = add_to_knowledge_base(doc,base_id)\n",
    "    \n",
    "    print(match_intent(q))\n",
    "    delete_from_knowledge_base(base_id,doc_id)\n",
    "    #delete_from_knowledge_base(base_id,doc_id)\n",
    "#dialogflow-xfakkc@anu-tier-1.iam.gserviceaccount.com\n",
    "#b6573caeb88881d7988e1bc0e8b3a4719d55f481\n",
    "\n",
    "answer_question(\"what do I learn in bachelor of engineering\")"
   ]
  },
  {
   "cell_type": "code",
   "execution_count": 61,
   "metadata": {
    "collapsed": false
   },
   "outputs": [],
   "source": [
    "#try to find on dialogflow\n",
    "\n",
    "#automatically authenticate, return the code\n",
    "#implicit()\n",
    "\n",
    "#create a new knowledge base, including finding out the key, if possible\n",
    "def create_knowledge_base(name):\n",
    "    url = 'https://dialogflow.googleapis.com/v2beta1/projects/anu-tier-1/agent/knowledgeBases'\n",
    "    \n",
    "    payload = \"\"\"{\n",
    "                  \"name\": \"\",\n",
    "                  \"displayName\": \\\"\"\"\"+name+\"\"\"\\\"\n",
    "                }\"\"\" \n",
    "    headers = {\n",
    "               'Authorization': \"Bearer \"+token[0]\n",
    "    }\n",
    "    res = requests.post(url, data=payload,headers=headers).text\n",
    "    return json.loads(res)[\"name\"].split(\"/\")[3]\n",
    "\n",
    "#add the document to the knowledge base\n",
    "def add_to_knowledge_base(doc,base):\n",
    "    url = 'https://dialogflow.googleapis.com/v2beta1/projects/anu-tier-1/knowledgeBases/'+base+'/documents'\n",
    "    payload = \"\"\"{\n",
    "              \"name\":\"\",\n",
    "              \"displayName\": \"testing doc 2\",\n",
    "              \"mimeType\": \"text/html\",\n",
    "              \"knowledgeTypes\": [\n",
    "                \"EXTRACTIVE_QA\"\n",
    "              ],\n",
    "\n",
    "              \"content\": \\\"\"\"\"+doc+\"\"\"\\\",\n",
    "            }\"\"\" \n",
    "    headers = {\n",
    "               'Authorization': \"Bearer \"+token[0]\n",
    "    }\n",
    "    \n",
    "    res = requests.post(url, data=payload,headers=headers).text\n",
    "    print(res)\n",
    "    return json.loads(res)[\"name\"].split(\"-\")[4]\n",
    "    \n",
    "\n",
    "    \n",
    "def delete_from_knowledge_base(base,doc_id):\n",
    "    url = 'https://dialogflow.googleapis.com/v2beta1/projects/anu-tier-1/agent/knowledgeBases/'+base+'/documents/'+doc_id\n",
    "    payload = \"\"\"{\n",
    "              \"name\":\\\"\"\"\"+doc_id+\"\"\"\\\",\n",
    "              }\"\"\"\n",
    "    headers = {\n",
    "               'Authorization': \"Bearer \"+token[0]\n",
    "    }\n",
    "    print(requests.delete(url, data=payload,headers=headers).text)\n"
   ]
  },
  {
   "cell_type": "code",
   "execution_count": 28,
   "metadata": {
    "collapsed": false
   },
   "outputs": [],
   "source": [
    "def match_intent(s):\n",
    "    s = \"\\\"\"+s+\"\\\"\"\n",
    "    url = 'https://dialogflow.googleapis.com/v2beta1/projects/anu-tier-1/agent/sessions/ddfab5c3-64bd-a138-1e5e-894614e7d7bb:detectIntent'\n",
    "    payload = \"\"\"{\n",
    "        \"queryInput\":{\n",
    "            \"text\":{\n",
    "                \"text\":%s,\n",
    "                \"languageCode\":\"en\"\n",
    "                }\n",
    "            },\n",
    "        \"queryParams\":{\n",
    "            \"timeZone\":\"Australia/Sydney\"\n",
    "        }\n",
    "    }\"\"\" % s\n",
    "    headers = {\n",
    "               'Authorization': \"Bearer \"+token[0]\n",
    "        }\n",
    "\n",
    "    return requests.post(url, data=payload, headers=headers).text"
   ]
  },
  {
   "cell_type": "code",
   "execution_count": null,
   "metadata": {
    "collapsed": false
   },
   "outputs": [],
   "source": [
    "#d =!~/downloads/google-cloud-sdk/bin/gcloud auth application-default print-access-token\n"
   ]
  },
  {
   "cell_type": "code",
   "execution_count": null,
   "metadata": {
    "collapsed": false
   },
   "outputs": [],
   "source": [
    "\"bearer \"+token[0]"
   ]
  },
  {
   "cell_type": "code",
   "execution_count": null,
   "metadata": {
    "collapsed": false,
    "scrolled": true
   },
   "outputs": [],
   "source": [
    "!~/downloads/google-cloud-sdk/bin/gcloud auth print-access-token"
   ]
  }
 ],
 "metadata": {
  "anaconda-cloud": {},
  "kernelspec": {
   "display_name": "Python [conda root]",
   "language": "python",
   "name": "conda-root-py"
  },
  "language_info": {
   "codemirror_mode": {
    "name": "ipython",
    "version": 3
   },
   "file_extension": ".py",
   "mimetype": "text/x-python",
   "name": "python",
   "nbconvert_exporter": "python",
   "pygments_lexer": "ipython3",
   "version": "3.5.2"
  }
 },
 "nbformat": 4,
 "nbformat_minor": 1
}
